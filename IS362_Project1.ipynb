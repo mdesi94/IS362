{
 "cells": [
  {
   "cell_type": "markdown",
   "metadata": {},
   "source": [
    "<h1> Project 1: Airlines Delays </h1>"
   ]
  },
  {
   "cell_type": "code",
   "execution_count": 2,
   "metadata": {},
   "outputs": [
    {
     "name": "stdout",
     "output_type": "stream",
     "text": [
      "  Unnamed: 0 Unnamed: 1  Los Angeles  Phoenix  San Diego  San Francisco  \\\n",
      "0     Alaska    On time        497.0    221.0      212.0          503.0   \n",
      "1        NaN    Delayed         62.0     12.0       20.0          102.0   \n",
      "2        NaN        NaN          NaN      NaN        NaN            NaN   \n",
      "3    AM West    On time        694.0   4840.0      383.0          320.0   \n",
      "4        NaN    Delayed        117.0    415.0       65.0          129.0   \n",
      "5        NaN        NaN          NaN      NaN        NaN            NaN   \n",
      "6        NaN        NaN          NaN      NaN        NaN            NaN   \n",
      "7        NaN        NaN          NaN      NaN        NaN            NaN   \n",
      "8        NaN        NaN          NaN      NaN        NaN            NaN   \n",
      "\n",
      "   Seattle  \n",
      "0   1841.0  \n",
      "1    305.0  \n",
      "2      NaN  \n",
      "3    201.0  \n",
      "4     61.0  \n",
      "5      NaN  \n",
      "6      NaN  \n",
      "7      NaN  \n",
      "8      NaN  \n"
     ]
    }
   ],
   "source": [
    "import pandas as pd\n",
    "\n",
    "df=pd.read_csv('/Users/mars/Downloads/Local/Flights.csv') #read file and view dataframe\n",
    "print(df)"
   ]
  },
  {
   "cell_type": "markdown",
   "metadata": {},
   "source": [
    "<h4>Because of the way the file was created originally, there is a lot of empty data. In this part, \n",
    "we can get rid of all the NaN values that are not needed.</h4>"
   ]
  },
  {
   "cell_type": "code",
   "execution_count": 35,
   "metadata": {},
   "outputs": [
    {
     "name": "stdout",
     "output_type": "stream",
     "text": [
      "   Airline   Status  Los Angeles  Phoenix  San Diego  San Francisco  Seattle  \\\n",
      "0   Alaska  On time        497.0    221.0      212.0          503.0   1841.0   \n",
      "1      NaN  Delayed         62.0     12.0       20.0          102.0    305.0   \n",
      "2      NaN      NaN          NaN      NaN        NaN            NaN      NaN   \n",
      "3  AM West  On time        694.0   4840.0      383.0          320.0    201.0   \n",
      "4      NaN  Delayed        117.0    415.0       65.0          129.0     61.0   \n",
      "5      NaN      NaN          NaN      NaN        NaN            NaN      NaN   \n",
      "6      NaN      NaN          NaN      NaN        NaN            NaN      NaN   \n",
      "7      NaN      NaN          NaN      NaN        NaN            NaN      NaN   \n",
      "8      NaN      NaN          NaN      NaN        NaN            NaN      NaN   \n",
      "\n",
      "      sum  \n",
      "0  3274.0  \n",
      "1   501.0  \n",
      "2     0.0  \n",
      "3  6438.0  \n",
      "4   787.0  \n",
      "5     0.0  \n",
      "6     0.0  \n",
      "7     0.0  \n",
      "8     0.0  \n"
     ]
    }
   ],
   "source": [
    "df.rename(columns={'Unnamed: 0':'Airline', 'Unnamed: 1': 'Status'}, inplace=True) #Rename unnamed columns\n",
    "print(df)\n",
    "df.dropna(thresh=2,inplace=True) #remove rows with more than 2 NaN values"
   ]
  },
  {
   "cell_type": "code",
   "execution_count": 38,
   "metadata": {},
   "outputs": [
    {
     "name": "stdout",
     "output_type": "stream",
     "text": [
      "['Airline', 'Status', 'Los Angeles', 'Phoenix', 'San Diego', 'San Francisco', 'Seattle', 'sum']\n",
      "['Los Angeles', 'Phoenix', 'San Diego', 'San Francisco', 'Seattle', 'sum']\n"
     ]
    }
   ],
   "source": [
    "row_list=list(df) #list all the column names\n",
    "print(row_list) \n",
    "\n",
    "row_list.remove('Airline') #remove the non-numeric rows to perform addition\n",
    "row_list.remove('Status')\n",
    "print(row_list) #verify changes"
   ]
  },
  {
   "cell_type": "markdown",
   "metadata": {},
   "source": [
    "<h4>Now that the dataframe looks cleaner and easier to work with, we can analyze the data.</h4>"
   ]
  },
  {
   "cell_type": "code",
   "execution_count": 37,
   "metadata": {},
   "outputs": [
    {
     "name": "stdout",
     "output_type": "stream",
     "text": [
      "   Airline   Status  Los Angeles  Phoenix  San Diego  San Francisco  Seattle  \\\n",
      "0   Alaska  On time        497.0    221.0      212.0          503.0   1841.0   \n",
      "1      NaN  Delayed         62.0     12.0       20.0          102.0    305.0   \n",
      "3  AM West  On time        694.0   4840.0      383.0          320.0    201.0   \n",
      "4      NaN  Delayed        117.0    415.0       65.0          129.0     61.0   \n",
      "\n",
      "       sum  \n",
      "0   6548.0  \n",
      "1   1002.0  \n",
      "3  12876.0  \n",
      "4   1574.0  \n"
     ]
    }
   ],
   "source": [
    "df[\"sum\"] = df[row_list].sum(axis=1) #sum of all the rows\n",
    "print(df)"
   ]
  },
  {
   "cell_type": "markdown",
   "metadata": {},
   "source": [
    "<h3>Now, by checking the sum of all the delays by airline, we can see that AM West has more delayed flights than Alaska by comparing rows 1 and 4.</h3>"
   ]
  }
 ],
 "metadata": {
  "kernelspec": {
   "display_name": "Python 3",
   "language": "python",
   "name": "python3"
  },
  "language_info": {
   "codemirror_mode": {
    "name": "ipython",
    "version": 3
   },
   "file_extension": ".py",
   "mimetype": "text/x-python",
   "name": "python",
   "nbconvert_exporter": "python",
   "pygments_lexer": "ipython3",
   "version": "3.8.5"
  }
 },
 "nbformat": 4,
 "nbformat_minor": 4
}
