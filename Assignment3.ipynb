{
 "cells": [
  {
   "cell_type": "markdown",
   "metadata": {},
   "source": [
    "# Miles From NYC to Key West"
   ]
  },
  {
   "cell_type": "markdown",
   "metadata": {},
   "source": [
    "<b>According to google, the total distance in miles from NYC to Key West is ~1435 miles.</b>"
   ]
  },
  {
   "cell_type": "markdown",
   "metadata": {},
   "source": [
    "Using the two given values of cumulative miles (55 and 120), I continued adding on miles until \n",
    "I reached 1435 miles, and placed all of those values into a pandas series.\n",
    "<br>\n",
    "<br>"
   ]
  },
  {
   "cell_type": "code",
   "execution_count": 25,
   "metadata": {},
   "outputs": [
    {
     "name": "stdout",
     "output_type": "stream",
     "text": [
      "0      NaN\n",
      "1     55.0\n",
      "2     65.0\n",
      "3     58.0\n",
      "4     62.0\n",
      "5     70.0\n",
      "6     56.0\n",
      "7     70.0\n",
      "8     69.0\n",
      "9     57.0\n",
      "10    64.0\n",
      "11    59.0\n",
      "12    61.0\n",
      "13    66.0\n",
      "14    51.0\n",
      "15    71.0\n",
      "16    64.0\n",
      "17    58.0\n",
      "18    69.0\n",
      "19    70.0\n",
      "20    57.0\n",
      "21    63.0\n",
      "22    60.0\n",
      "23    60.0\n",
      "dtype: float64\n"
     ]
    }
   ],
   "source": [
    "import pandas as pd\n",
    "import numpy as np\n",
    "cumulative_miles = pd.Series([0, 55, 120, 178, 240, 310, 366, 436, 505, 562, 626, 685,\n",
    "                              746, 812, 863, 934, 998, 1056, 1125, 1195, 1252, 1315, 1375, 1435],\n",
    "                index = [0, 1, 2, 3, 4, 5, 6, 7, 8, 9, 10, 11, 12, 13, 14, 15, 16, 17, 18, 19, 20, 21, 22, 23])\n",
    "\n",
    "\n",
    "daily_miles = cumulative_miles.diff(periods=1)\n",
    "print(daily_miles)"
   ]
  },
  {
   "cell_type": "markdown",
   "metadata": {},
   "source": [
    "Each <b>index value</b> corresponds to the <i>day</i>, and the <b>series values</b> are the <i>total miles traveled for each day</i>. "
   ]
  }
 ],
 "metadata": {
  "kernelspec": {
   "display_name": "Python 3",
   "language": "python",
   "name": "python3"
  },
  "language_info": {
   "codemirror_mode": {
    "name": "ipython",
    "version": 3
   },
   "file_extension": ".py",
   "mimetype": "text/x-python",
   "name": "python",
   "nbconvert_exporter": "python",
   "pygments_lexer": "ipython3",
   "version": "3.8.5"
  }
 },
 "nbformat": 4,
 "nbformat_minor": 4
}
