{
 "cells": [
  {
   "cell_type": "markdown",
   "metadata": {},
   "source": [
    "<h1>Set Comprehensions</h1>"
   ]
  },
  {
   "cell_type": "markdown",
   "metadata": {},
   "source": [
    "<h4>Set comprehensions:</h4>\n",
    "Set comprehensions are used to create new unordered lists (or sets) with a minimal amount of code. \n"
   ]
  },
  {
   "cell_type": "markdown",
   "metadata": {},
   "source": [
    "Example:\n",
    "    Create a comprehension that prints only the odd numbers in a given range:"
   ]
  },
  {
   "cell_type": "code",
   "execution_count": 7,
   "metadata": {},
   "outputs": [
    {
     "name": "stdout",
     "output_type": "stream",
     "text": [
      "{1, 3, 5, 7, 9, 11, 13, 15, 17, 19, 21, 23, 25, 27, 29}\n"
     ]
    }
   ],
   "source": [
    "odd = {i for i in range(30) if i %2 != 0}\n",
    "print(odd)"
   ]
  },
  {
   "cell_type": "markdown",
   "metadata": {},
   "source": [
    "Set comprehensions can also be used to extract <b>unique data</b> from a dataset. \n",
    "Because set comprehensions are unordered, they also remove duplicates."
   ]
  },
  {
   "cell_type": "markdown",
   "metadata": {},
   "source": [
    "Example: Extract only unique words from a paragraph. <br>\n",
    "(<b>Note</b>:punctuation and capital letters must first be removed/changed. This can be done manually or by using .lower(), .replace(), and .split())."
   ]
  },
  {
   "cell_type": "code",
   "execution_count": 14,
   "metadata": {},
   "outputs": [
    {
     "name": "stdout",
     "output_type": "stream",
     "text": [
      "{'and', 'daily', 'life', 'breakfast', '6', 'ten', 'no', 'idea', 'got', 'job', 'awoke', 'was', 'about', 'time', 'every', 'he', 'seemed', 'ate', 'commute', 'to', 'found', 'sharp', 'of', 'at', 'years', 'home', 'who', 'for', 'been', 'the', 'a', 'change', 'it', 'same', 'drove', 'in', 'all', 'routine', 'that', 'dave', 'joy', 'never', 'had', 'night', 'last', 'pm', 'worked'}\n"
     ]
    }
   ],
   "source": [
    "paragraph = 'Dave found joy in the daily routine of life. He awoke at the same time, ate the same breakfast and drove the same commute. He worked at a job that never seemed to change and he got home at 6 pm sharp every night. It was who he had been for the last ten years and he had no idea that was all about to change.'\n",
    "edited_para = paragraph.lower().replace('.' , '').replace(',', '').split()\n",
    "unique = {word for word in edited_para}\n",
    "print(unique)"
   ]
  }
 ],
 "metadata": {
  "kernelspec": {
   "display_name": "Python 3",
   "language": "python",
   "name": "python3"
  },
  "language_info": {
   "codemirror_mode": {
    "name": "ipython",
    "version": 3
   },
   "file_extension": ".py",
   "mimetype": "text/x-python",
   "name": "python",
   "nbconvert_exporter": "python",
   "pygments_lexer": "ipython3",
   "version": "3.8.5"
  }
 },
 "nbformat": 4,
 "nbformat_minor": 4
}
