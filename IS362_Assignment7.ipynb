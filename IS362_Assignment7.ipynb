{
 "cells": [
  {
   "cell_type": "markdown",
   "metadata": {},
   "source": [
    "<h1>Assignment 7: Aggregating Data</h1>"
   ]
  },
  {
   "cell_type": "code",
   "execution_count": 30,
   "metadata": {},
   "outputs": [],
   "source": [
    "import pandas as pd\n",
    "import numpy as np\n",
    "import os\n",
    "os.chdir('/Users/mars/Downloads/Local/')\n",
    "Movies = pd.read_csv('Movies.csv',index_col=0 )\n"
   ]
  },
  {
   "cell_type": "markdown",
   "metadata": {},
   "source": [
    "<p>First, I am replacing null values with 0 to make aggregations easier.</p>"
   ]
  },
  {
   "cell_type": "code",
   "execution_count": 31,
   "metadata": {},
   "outputs": [
    {
     "data": {
      "text/html": [
       "<div>\n",
       "<style scoped>\n",
       "    .dataframe tbody tr th:only-of-type {\n",
       "        vertical-align: middle;\n",
       "    }\n",
       "\n",
       "    .dataframe tbody tr th {\n",
       "        vertical-align: top;\n",
       "    }\n",
       "\n",
       "    .dataframe thead th {\n",
       "        text-align: right;\n",
       "    }\n",
       "</style>\n",
       "<table border=\"1\" class=\"dataframe\">\n",
       "  <thead>\n",
       "    <tr style=\"text-align: right;\">\n",
       "      <th></th>\n",
       "      <th>I Care a Lot</th>\n",
       "      <th>Love &amp; Basketball</th>\n",
       "      <th>Jackie Brown</th>\n",
       "      <th>Bird Box</th>\n",
       "      <th>Hereditary</th>\n",
       "    </tr>\n",
       "  </thead>\n",
       "  <tbody>\n",
       "    <tr>\n",
       "      <th>Piankhy</th>\n",
       "      <td>2.0</td>\n",
       "      <td>5.0</td>\n",
       "      <td>5.0</td>\n",
       "      <td>2.5</td>\n",
       "      <td>4.5</td>\n",
       "    </tr>\n",
       "    <tr>\n",
       "      <th>Marissa</th>\n",
       "      <td>1.5</td>\n",
       "      <td>4.0</td>\n",
       "      <td>4.0</td>\n",
       "      <td>3.0</td>\n",
       "      <td>5.0</td>\n",
       "    </tr>\n",
       "    <tr>\n",
       "      <th>Shannon</th>\n",
       "      <td>3.0</td>\n",
       "      <td>0.0</td>\n",
       "      <td>0.0</td>\n",
       "      <td>3.5</td>\n",
       "      <td>2.0</td>\n",
       "    </tr>\n",
       "    <tr>\n",
       "      <th>Jose</th>\n",
       "      <td>4.0</td>\n",
       "      <td>3.5</td>\n",
       "      <td>4.0</td>\n",
       "      <td>2.5</td>\n",
       "      <td>3.0</td>\n",
       "    </tr>\n",
       "    <tr>\n",
       "      <th>Jane</th>\n",
       "      <td>3.5</td>\n",
       "      <td>0.0</td>\n",
       "      <td>0.0</td>\n",
       "      <td>2.0</td>\n",
       "      <td>5.0</td>\n",
       "    </tr>\n",
       "  </tbody>\n",
       "</table>\n",
       "</div>"
      ],
      "text/plain": [
       "         I Care a Lot  Love & Basketball  Jackie Brown  Bird Box  Hereditary\n",
       "Piankhy           2.0                5.0           5.0       2.5         4.5\n",
       "Marissa           1.5                4.0           4.0       3.0         5.0\n",
       "Shannon           3.0                0.0           0.0       3.5         2.0\n",
       "Jose              4.0                3.5           4.0       2.5         3.0\n",
       "Jane              3.5                0.0           0.0       2.0         5.0"
      ]
     },
     "execution_count": 31,
     "metadata": {},
     "output_type": "execute_result"
    }
   ],
   "source": [
    "Movies.fillna(0)"
   ]
  },
  {
   "cell_type": "markdown",
   "metadata": {},
   "source": [
    "Here, we will find the average rating for each person."
   ]
  },
  {
   "cell_type": "code",
   "execution_count": 32,
   "metadata": {},
   "outputs": [
    {
     "data": {
      "text/plain": [
       "Piankhy    3.800000\n",
       "Marissa    3.500000\n",
       "Shannon    2.833333\n",
       "Jose       3.400000\n",
       "Jane       3.500000\n",
       "dtype: float64"
      ]
     },
     "execution_count": 32,
     "metadata": {},
     "output_type": "execute_result"
    }
   ],
   "source": [
    "Movies.mean(axis=1)\n"
   ]
  },
  {
   "cell_type": "markdown",
   "metadata": {},
   "source": [
    "<p>The results are:<br>\n",
    "    <b>Piankhy</b> = 3.8<br>\n",
    "    <b>Marissa</b> = 3.5<br>\n",
    "    <b>Shannon</b> = 2.8<br>\n",
    "    <b>Jose</b> = 3.4<br>\n",
    "    <b>Jane</b> = 3.5</p>"
   ]
  },
  {
   "cell_type": "markdown",
   "metadata": {},
   "source": [
    "Next, we find the average rating for each movie."
   ]
  },
  {
   "cell_type": "code",
   "execution_count": 33,
   "metadata": {},
   "outputs": [
    {
     "data": {
      "text/plain": [
       "I Care a Lot         2.800000\n",
       "Love & Basketball    4.166667\n",
       "Jackie Brown         4.333333\n",
       "Bird Box             2.700000\n",
       "Hereditary           3.900000\n",
       "dtype: float64"
      ]
     },
     "execution_count": 33,
     "metadata": {},
     "output_type": "execute_result"
    }
   ],
   "source": [
    "Movies.mean(axis=0)"
   ]
  },
  {
   "cell_type": "markdown",
   "metadata": {},
   "source": [
    "The results are:<br>\n",
    "    <b>I Care a Lot</b>: 2.8<br>\n",
    "    <b>Love & Basketball</b>: 4.2<br>\n",
    "    <b>Jackie Brown</b>: 4.3<br>\n",
    "    <b>Bird Box</b>: 2.7<br>\n",
    "    <b>Hereditary</b>: 3.9<br>"
   ]
  },
  {
   "cell_type": "markdown",
   "metadata": {},
   "source": [
    "<h3>Part 2: Normalize rating data</h3>\n",
    "<p>This time, we will get the <i>normalized</i> averages for each person and each movie.</p>"
   ]
  },
  {
   "cell_type": "code",
   "execution_count": 40,
   "metadata": {},
   "outputs": [
    {
     "name": "stdout",
     "output_type": "stream",
     "text": [
      "         I Care a Lot  Love & Basketball  Jackie Brown  Bird Box  Hereditary\n",
      "Piankhy           0.2           1.000000           1.0  0.333333    0.833333\n",
      "Marissa           0.0           0.333333           0.0  0.666667    1.000000\n",
      "Shannon           0.6                NaN           NaN  1.000000    0.000000\n",
      "Jose              1.0           0.000000           0.0  0.333333    0.333333\n",
      "Jane              0.8                NaN           NaN  0.000000    1.000000\n"
     ]
    },
    {
     "data": {
      "text/plain": [
       "I Care a Lot         0.520000\n",
       "Love & Basketball    0.444444\n",
       "Jackie Brown         0.333333\n",
       "Bird Box             0.466667\n",
       "Hereditary           0.633333\n",
       "dtype: float64"
      ]
     },
     "execution_count": 40,
     "metadata": {},
     "output_type": "execute_result"
    }
   ],
   "source": [
    "Movies_n=((Movies-Movies.min())/(Movies.max()-Movies.min()))\n",
    "print(Movies_n)\n",
    "\n",
    "Movies_n=((Movies-Movies.min())/(Movies.max()-Movies.min()))\n",
    "Movies_n.mean(axis=0)"
   ]
  },
  {
   "cell_type": "markdown",
   "metadata": {},
   "source": [
    "<p>The normalized averages for each movie are:<br>\n",
    "    <b>I Care a Lot:</b>.52<br>\n",
    "    <b>Love & Basketball:</b>.44<br> \n",
    "    <b>Jackie Brown:</b>.33<br>\n",
    "    <b>Bird Box:</b>.46<br>\n",
    "    <b>Hereditary:</b>.63<br></p>\n",
    "        "
   ]
  },
  {
   "cell_type": "code",
   "execution_count": 41,
   "metadata": {},
   "outputs": [
    {
     "data": {
      "text/plain": [
       "Piankhy    0.673333\n",
       "Marissa    0.400000\n",
       "Shannon    0.533333\n",
       "Jose       0.333333\n",
       "Jane       0.600000\n",
       "dtype: float64"
      ]
     },
     "execution_count": 41,
     "metadata": {},
     "output_type": "execute_result"
    }
   ],
   "source": [
    "Movies_n.mean(axis=1)"
   ]
  },
  {
   "cell_type": "markdown",
   "metadata": {},
   "source": [
    "<p>The normalized averages by person are:<br>\n",
    "    <b>Piankhy:</b>0.67<br>\n",
    "    <b>Marissa:</b>0.40<br>\n",
    "    <b>Shannon:</b>0.53<br>\n",
    "    <b>Jose:</b>0.33<br> \n",
    "    <b>Jane:</b>0.60<br></p>\n",
    " <br><br>\n",
    "    \n",
    "    \n",
    "<p>In this example, normalizing the data isn't super useful, since usually normalization is used to scale data that may be in different units or to scale outliers. This data didn't really have outliers since there is so little data and it is on such a small scale (1-5). Perhaps normalizing would be useful if the ratings were done on a scale of 1-10 and most ratings were under 5, leaving some data far out of the 'normal' range. </p>"
   ]
  },
  {
   "cell_type": "code",
   "execution_count": null,
   "metadata": {},
   "outputs": [],
   "source": []
  }
 ],
 "metadata": {
  "kernelspec": {
   "display_name": "Python 3",
   "language": "python",
   "name": "python3"
  },
  "language_info": {
   "codemirror_mode": {
    "name": "ipython",
    "version": 3
   },
   "file_extension": ".py",
   "mimetype": "text/x-python",
   "name": "python",
   "nbconvert_exporter": "python",
   "pygments_lexer": "ipython3",
   "version": "3.8.5"
  }
 },
 "nbformat": 4,
 "nbformat_minor": 4
}
