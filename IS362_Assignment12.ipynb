{
 "cells": [
  {
   "cell_type": "markdown",
   "metadata": {},
   "source": [
    "<h1>Assignment 12</h1>"
   ]
  },
  {
   "cell_type": "code",
   "execution_count": 56,
   "metadata": {},
   "outputs": [
    {
     "name": "stdout",
     "output_type": "stream",
     "text": [
      "     0  1  3  5  22\n",
      "0     p  x  n  p  u\n",
      "1     e  x  y  a  g\n",
      "2     e  b  w  l  m\n",
      "3     p  x  w  p  u\n",
      "4     e  x  g  n  g\n",
      "...  .. .. .. .. ..\n",
      "8119  e  k  n  n  l\n",
      "8120  e  x  n  n  l\n",
      "8121  e  f  n  n  l\n",
      "8122  p  k  n  y  l\n",
      "8123  e  x  n  n  l\n",
      "\n",
      "[8124 rows x 5 columns]\n"
     ]
    }
   ],
   "source": [
    "import pandas as pd\n",
    "import numpy as np\n",
    "import matplotlib.pyplot as plt\n",
    "\n",
    "df=pd.read_csv('/Users/mars/Downloads/Local/Mushroom.data', header=None, usecols=[0,1,3,5,22])#read only columns needed from file      \n",
    "print(df)"
   ]
  },
  {
   "cell_type": "markdown",
   "metadata": {},
   "source": [
    "<h1>Part 1:</h1>\n",
    "<b>After reading the columns needed from the file, we will replace values and change column names.</b>"
   ]
  },
  {
   "cell_type": "code",
   "execution_count": 57,
   "metadata": {},
   "outputs": [
    {
     "name": "stdout",
     "output_type": "stream",
     "text": [
      "     Poison_Edible Cap_Shape Cap_Color Odor Habitat\n",
      "0                p         x         n    p       u\n",
      "1                e         x         y    a       g\n",
      "2                e         b         w    l       m\n",
      "3                p         x         w    p       u\n",
      "4                e         x         g    n       g\n",
      "...            ...       ...       ...  ...     ...\n",
      "8119             e         k         n    n       l\n",
      "8120             e         x         n    n       l\n",
      "8121             e         f         n    n       l\n",
      "8122             p         k         n    y       l\n",
      "8123             e         x         n    n       l\n",
      "\n",
      "[8124 rows x 5 columns]\n"
     ]
    }
   ],
   "source": [
    "df.rename(columns={0: \"Poison_Edible\", 1: \"Cap_Shape\", 3: \"Cap_Color\", 5: \"Odor\", 22: \"Habitat\"}, inplace=True)\n",
    "print(df) #rename columns\n",
    "\n",
    "\n",
    "df['Poison_Edible'] = df['Poison_Edible'].replace(['e','p'],['0','1']) #replace each letter value with a numeric value for each column.\n",
    "\n",
    "df['Cap_Shape'] = df['Cap_Shape'].replace(['b','c','x','f','k','s'],['1','2','3','4','5','6'])\n",
    "\n",
    "df['Cap_Color'] = df['Cap_Color'].replace(['n','b','c','g','r','p','u','e','w','y'],['1','2','3','4','5','6','7','8','9','10'])\n",
    "\n",
    "df['Odor'] = df['Odor'].replace(['a','l','c','y','f','m','n','p','s'],['1','2','3','4','5','6','7','8','9'])\n",
    "\n",
    "df['Habitat'] = df['Habitat'].replace(['g','l','m','p','u','w','d'],['1','2','3','4','5','6','7'])"
   ]
  },
  {
   "cell_type": "markdown",
   "metadata": {},
   "source": [
    "<h2>Part 2:</h2> \n",
    "<b>Analyze/visualize data and draw conclusions.</b>"
   ]
  },
  {
   "cell_type": "code",
   "execution_count": 64,
   "metadata": {},
   "outputs": [
    {
     "data": {
      "text/plain": [
       "array([[<AxesSubplot:title={'center':'Poison_Edible'}>,\n",
       "        <AxesSubplot:title={'center':'Cap_Shape'}>],\n",
       "       [<AxesSubplot:title={'center':'Cap_Color'}>,\n",
       "        <AxesSubplot:title={'center':'Odor'}>],\n",
       "       [<AxesSubplot:title={'center':'Habitat'}>, <AxesSubplot:>]],\n",
       "      dtype=object)"
      ]
     },
     "execution_count": 64,
     "metadata": {},
     "output_type": "execute_result"
    },
    {
     "data": {
      "image/png": "[encoded data removed]",
      "text/plain": [
       "<Figure size 432x288 with 6 Axes>"
      ]
     },
     "metadata": {
      "needs_background": "light"
     },
     "output_type": "display_data"
    }
   ],
   "source": [
    "df.hist()"
   ]
  },
  {
   "cell_type": "markdown",
   "metadata": {},
   "source": [
    "<h3>Key:</h3><br>\n",
    "<b>Poison_Edible: </b>0/e=Edible, 1/p=Poisonous <br><br>\n",
    "<b>Cap_Shape: </b>1/b=Bell, 2/c=Conical, 3/x=Convex, 4/f=Flat, 5/k=Knobbed, 6/s=Sunken <br><br>\n",
    "<b>Cap_Color: </b>1/n=Brown, 2/b=Buff, 3/c=Cinnamon, 4/g=Gray, 5/r=Green, 6/p=Pink, 7/u=Purple, 8/e=Red, 9/w=White, 10/y=Yellow <br><br>\n",
    "<b>Odor: </b>1/a=Almond, 2/l=Anise, 3/c=Creosote, 4/y=Fishy, 5/f=Foul, 6/m=Musty, 7/n=None, 8/s=Spicy <br><br>\n",
    "<b>Habitat: </b>1/g=Grass, 2/l=Leaves, 3/m=Meadows, 4/p=Paths, 5/u=Urban, 6/w=Waste, 7/d=Woods"
   ]
  },
  {
   "cell_type": "code",
   "execution_count": 67,
   "metadata": {},
   "outputs": [
    {
     "data": {
      "text/plain": [
       "<AxesSubplot:xlabel='Poison_Edible', ylabel='Odor'>"
      ]
     },
     "execution_count": 67,
     "metadata": {},
     "output_type": "execute_result"
    },
    {
     "data": {
      "image/png": "[encoded data removed]",
      "text/plain": [
       "<Figure size 432x288 with 1 Axes>"
      ]
     },
     "metadata": {
      "needs_background": "light"
     },
     "output_type": "display_data"
    }
   ],
   "source": [
    "df.plot.scatter(x = 'Poison_Edible', y = 'Odor') "
   ]
  },
  {
   "cell_type": "code",
   "execution_count": 73,
   "metadata": {},
   "outputs": [
    {
     "data": {
      "text/plain": [
       "<AxesSubplot:xlabel='Poison_Edible', ylabel='Habitat'>"
      ]
     },
     "execution_count": 73,
     "metadata": {},
     "output_type": "execute_result"
    },
    {
     "data": {
      "image/png": "[encoded data removed]",
      "text/plain": [
       "<Figure size 432x288 with 1 Axes>"
      ]
     },
     "metadata": {
      "needs_background": "light"
     },
     "output_type": "display_data"
    }
   ],
   "source": [
    "df.plot.scatter(x = 'Poison_Edible', y = 'Habitat') "
   ]
  },
  {
   "cell_type": "markdown",
   "metadata": {},
   "source": [
    "<p>From these scatterplots, it's difficult to say there is a correlation between a mushroom being poisonous or edible and its odor or habitat. <br>\n",
    "\n",
    "There is a slightly <b>stronger connection with odor than with habitat,</b> since there are more odors that correlate with a mushroom being <i>only poisonous</i> or <i>only edible </i> than with habitat, where most of the habitats have both poison <i>and</i> edible mushrooms. </p>"
   ]
  }
 ],
 "metadata": {
  "kernelspec": {
   "display_name": "Python 3",
   "language": "python",
   "name": "python3"
  },
  "language_info": {
   "codemirror_mode": {
    "name": "ipython",
    "version": 3
   },
   "file_extension": ".py",
   "mimetype": "text/x-python",
   "name": "python",
   "nbconvert_exporter": "python",
   "pygments_lexer": "ipython3",
   "version": "3.8.5"
  }
 },
 "nbformat": 4,
 "nbformat_minor": 4
}
